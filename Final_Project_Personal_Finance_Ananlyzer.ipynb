{
  "nbformat": 4,
  "nbformat_minor": 0,
  "metadata": {
    "colab": {
      "provenance": [],
      "authorship_tag": "ABX9TyPEzGFTCbRH5AP1pFZDjo74",
      "include_colab_link": true
    },
    "kernelspec": {
      "name": "python3",
      "display_name": "Python 3"
    },
    "language_info": {
      "name": "python"
    }
  },
  "cells": [
    {
      "cell_type": "markdown",
      "metadata": {
        "id": "view-in-github",
        "colab_type": "text"
      },
      "source": [
        "<a href=\"https://colab.research.google.com/github/jwoods4815/Final-Programming-Project/blob/main/Final_Project_Personal_Finance_Ananlyzer.ipynb\" target=\"_parent\"><img src=\"https://colab.research.google.com/assets/colab-badge.svg\" alt=\"Open In Colab\"/></a>"
      ]
    },
    {
      "cell_type": "markdown",
      "source": [
        "###End of Year Project - Personal Finance Analyzer\n",
        "|Group 0|Goal\n",
        "|---|---|\n",
        "|1. Jason Woods|Create a personal finance analyzer that can read from CSV data and produce reports and graphs.\n",
        "\n",
        "\n",
        "---\n",
        "\n",
        "1. Briefly explain the pandas library and how you will be using it.\n"
      ],
      "metadata": {
        "id": "HEydhh5KScQ3"
      }
    },
    {
      "cell_type": "code",
      "execution_count": null,
      "metadata": {
        "id": "Mc5k-wrLSPQ8"
      },
      "outputs": [],
      "source": []
    }
  ]
}